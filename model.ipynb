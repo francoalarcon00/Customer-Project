{
 "cells": [
  {
   "cell_type": "code",
   "execution_count": 9,
   "metadata": {},
   "outputs": [],
   "source": [
    "import pandas as pd\n",
    "import numpy as np\n",
    "from sklearn.pipeline import Pipeline\n",
    "from sklearn.compose import ColumnTransformer\n",
    "from sklearn.model_selection import train_test_split\n",
    "from sklearn.preprocessing import OneHotEncoder, StandardScaler\n",
    "from sklearn.impute import SimpleImputer\n",
    "\n",
    "import warnings\n",
    "warnings.filterwarnings(\"ignore\")"
   ]
  },
  {
   "cell_type": "code",
   "execution_count": 10,
   "metadata": {},
   "outputs": [
    {
     "data": {
      "text/html": [
       "<div>\n",
       "<style scoped>\n",
       "    .dataframe tbody tr th:only-of-type {\n",
       "        vertical-align: middle;\n",
       "    }\n",
       "\n",
       "    .dataframe tbody tr th {\n",
       "        vertical-align: top;\n",
       "    }\n",
       "\n",
       "    .dataframe thead th {\n",
       "        text-align: right;\n",
       "    }\n",
       "</style>\n",
       "<table border=\"1\" class=\"dataframe\">\n",
       "  <thead>\n",
       "    <tr style=\"text-align: right;\">\n",
       "      <th></th>\n",
       "      <th>index</th>\n",
       "      <th>food_category</th>\n",
       "      <th>food_department</th>\n",
       "      <th>food_family</th>\n",
       "      <th>store_sales</th>\n",
       "      <th>store_cost</th>\n",
       "      <th>unit_sales</th>\n",
       "      <th>promotion_name</th>\n",
       "      <th>sales_country</th>\n",
       "      <th>marital_status</th>\n",
       "      <th>...</th>\n",
       "      <th>grocery_sqft</th>\n",
       "      <th>frozen_sqft</th>\n",
       "      <th>meat_sqft</th>\n",
       "      <th>coffee_bar</th>\n",
       "      <th>video_store</th>\n",
       "      <th>salad_bar</th>\n",
       "      <th>prepared_food</th>\n",
       "      <th>florist</th>\n",
       "      <th>media_type</th>\n",
       "      <th>cost</th>\n",
       "    </tr>\n",
       "  </thead>\n",
       "  <tbody>\n",
       "    <tr>\n",
       "      <th>46143</th>\n",
       "      <td>46143</td>\n",
       "      <td>Vegetables</td>\n",
       "      <td>Canned Foods</td>\n",
       "      <td>Food</td>\n",
       "      <td>8.01</td>\n",
       "      <td>3.4443</td>\n",
       "      <td>3.0</td>\n",
       "      <td>Double Your Savings</td>\n",
       "      <td>Canada</td>\n",
       "      <td>S</td>\n",
       "      <td>...</td>\n",
       "      <td>27463.0</td>\n",
       "      <td>4193.0</td>\n",
       "      <td>2795.0</td>\n",
       "      <td>1.0</td>\n",
       "      <td>0.0</td>\n",
       "      <td>0.0</td>\n",
       "      <td>0.0</td>\n",
       "      <td>1.0</td>\n",
       "      <td>Street Handout</td>\n",
       "      <td>114.72</td>\n",
       "    </tr>\n",
       "  </tbody>\n",
       "</table>\n",
       "<p>1 rows × 41 columns</p>\n",
       "</div>"
      ],
      "text/plain": [
       "       index food_category food_department food_family  store_sales  \\\n",
       "46143  46143    Vegetables    Canned Foods        Food         8.01   \n",
       "\n",
       "       store_cost  unit_sales       promotion_name sales_country  \\\n",
       "46143      3.4443         3.0  Double Your Savings        Canada   \n",
       "\n",
       "      marital_status  ... grocery_sqft  frozen_sqft meat_sqft coffee_bar  \\\n",
       "46143              S  ...      27463.0       4193.0    2795.0        1.0   \n",
       "\n",
       "      video_store salad_bar  prepared_food florist      media_type    cost  \n",
       "46143         0.0       0.0            0.0     1.0  Street Handout  114.72  \n",
       "\n",
       "[1 rows x 41 columns]"
      ]
     },
     "execution_count": 10,
     "metadata": {},
     "output_type": "execute_result"
    }
   ],
   "source": [
    "data = pd.read_csv('clean_data.csv')\n",
    "data.sample()"
   ]
  },
  {
   "cell_type": "code",
   "execution_count": 11,
   "metadata": {},
   "outputs": [],
   "source": [
    "continuo = data.select_dtypes(exclude = np.number)"
   ]
  },
  {
   "cell_type": "code",
   "execution_count": 12,
   "metadata": {},
   "outputs": [],
   "source": [
    "continuo = continuo.select_dtypes(exclude = np.object)"
   ]
  },
  {
   "cell_type": "code",
   "execution_count": 13,
   "metadata": {},
   "outputs": [],
   "source": [
    "num = data.select_dtypes(include=np.number).columns.to_list()\n",
    "cat = data.select_dtypes(exclude=np.number).columns.to_list()\n",
    "num.remove('index')\n",
    "num.remove('cost')\n",
    "\n",
    "x = data[num + cat]\n",
    "y = data['cost']\n",
    "\n",
    "x_train, x_test, y_train, y_test = train_test_split(x, y, test_size=0.2, random_state=1)"
   ]
  },
  {
   "cell_type": "code",
   "execution_count": 14,
   "metadata": {},
   "outputs": [],
   "source": [
    "num_pipeline = Pipeline([\n",
    "    ('imputer', SimpleImputer(strategy='most_frequent')),\n",
    "    ('scaler', StandardScaler())\n",
    "])\n",
    "\n",
    "cat_pipeline = Pipeline([\n",
    "    ('imputer', SimpleImputer(strategy='most_frequent')),\n",
    "    ('encoder', OneHotEncoder(sparse=True, handle_unknown='ignore'))\n",
    "])\n",
    "\n",
    "preprocessing_pipeline = ColumnTransformer([\n",
    "    ('num_preprocessing', num_pipeline, num),\n",
    "    ('cat_preprocessing', cat_pipeline, cat)\n",
    "])"
   ]
  },
  {
   "cell_type": "code",
   "execution_count": 15,
   "metadata": {},
   "outputs": [],
   "source": [
    "from sklearn.tree import DecisionTreeRegressor\n",
    "\n",
    "model = DecisionTreeRegressor()\n",
    "\n",
    "complete_pipeline = Pipeline([\n",
    "    ('preprocessor', preprocessing_pipeline),\n",
    "    ('estimator', model),\n",
    "])"
   ]
  },
  {
   "cell_type": "code",
   "execution_count": 16,
   "metadata": {},
   "outputs": [
    {
     "name": "stdout",
     "output_type": "stream",
     "text": [
      "Train score:  1.0\n",
      "Test score:  0.9989119667695028\n"
     ]
    }
   ],
   "source": [
    "complete_pipeline.fit(x_train, y_train)\n",
    "y_pred = complete_pipeline.predict(x_test)\n",
    "print('Train score: ',complete_pipeline.score(x_train, y_train))\n",
    "print('Test score: ',complete_pipeline.score(x_test, y_test))"
   ]
  }
 ],
 "metadata": {
  "kernelspec": {
   "display_name": "Python 3.10.7 64-bit",
   "language": "python",
   "name": "python3"
  },
  "language_info": {
   "codemirror_mode": {
    "name": "ipython",
    "version": 3
   },
   "file_extension": ".py",
   "mimetype": "text/x-python",
   "name": "python",
   "nbconvert_exporter": "python",
   "pygments_lexer": "ipython3",
   "version": "3.10.7"
  },
  "orig_nbformat": 4,
  "vscode": {
   "interpreter": {
    "hash": "afb734500600fd355917ca529030176ea0ca205570884b88f2f6f7d791fd3fbe"
   }
  }
 },
 "nbformat": 4,
 "nbformat_minor": 2
}
