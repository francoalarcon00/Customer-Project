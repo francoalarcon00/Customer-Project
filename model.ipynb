{
 "cells": [
  {
   "cell_type": "code",
   "execution_count": 33,
   "metadata": {},
   "outputs": [],
   "source": [
    "# Import libraries\n",
    "import pandas as pd\n",
    "import numpy as np\n",
    "\n",
    "# Pipelines\n",
    "from sklearn.pipeline import Pipeline\n",
    "from sklearn.compose import ColumnTransformer\n",
    "\n",
    "# Selection\n",
    "from sklearn.model_selection import train_test_split\n",
    "\n",
    "# Preprocessing\n",
    "from sklearn.preprocessing import OneHotEncoder, StandardScaler\n",
    "from sklearn.impute import SimpleImputer\n",
    "\n",
    "# Warinings\n",
    "import warnings\n",
    "warnings.filterwarnings(\"ignore\")"
   ]
  },
  {
   "cell_type": "code",
   "execution_count": 34,
   "metadata": {},
   "outputs": [
    {
     "data": {
      "text/html": [
       "<div><div id=ef5cb3d4-2fac-430d-89a9-a4473043e89e style=\"display:none; background-color:#9D6CFF; color:white; width:200px; height:30px; padding-left:5px; border-radius:4px; flex-direction:row; justify-content:space-around; align-items:center;\" onmouseover=\"this.style.backgroundColor='#BA9BF8'\" onmouseout=\"this.style.backgroundColor='#9D6CFF'\" onclick=\"window.commands?.execute('create-mitosheet-from-dataframe-output');\">See Full Dataframe in Mito</div> <script> if (window.commands?.hasCommand('create-mitosheet-from-dataframe-output')) document.getElementById('ef5cb3d4-2fac-430d-89a9-a4473043e89e').style.display = 'flex' </script> <table border=\"1\" class=\"dataframe\">\n",
       "  <thead>\n",
       "    <tr style=\"text-align: right;\">\n",
       "      <th></th>\n",
       "      <th>index</th>\n",
       "      <th>food_category</th>\n",
       "      <th>food_department</th>\n",
       "      <th>food_family</th>\n",
       "      <th>store_sales</th>\n",
       "      <th>store_cost</th>\n",
       "      <th>unit_sales</th>\n",
       "      <th>promotion_name</th>\n",
       "      <th>sales_country</th>\n",
       "      <th>marital_status</th>\n",
       "      <th>...</th>\n",
       "      <th>grocery_sqft</th>\n",
       "      <th>frozen_sqft</th>\n",
       "      <th>meat_sqft</th>\n",
       "      <th>coffee_bar</th>\n",
       "      <th>video_store</th>\n",
       "      <th>salad_bar</th>\n",
       "      <th>prepared_food</th>\n",
       "      <th>florist</th>\n",
       "      <th>media_type</th>\n",
       "      <th>cost</th>\n",
       "    </tr>\n",
       "  </thead>\n",
       "  <tbody>\n",
       "    <tr>\n",
       "      <th>19606</th>\n",
       "      <td>19606</td>\n",
       "      <td>Snack Foods</td>\n",
       "      <td>Snack Foods</td>\n",
       "      <td>Food</td>\n",
       "      <td>5.24</td>\n",
       "      <td>1.834</td>\n",
       "      <td>4.0</td>\n",
       "      <td>Sales Galore</td>\n",
       "      <td>Mexico</td>\n",
       "      <td>M</td>\n",
       "      <td>...</td>\n",
       "      <td>20141.0</td>\n",
       "      <td>6393.0</td>\n",
       "      <td>4262.0</td>\n",
       "      <td>1.0</td>\n",
       "      <td>1.0</td>\n",
       "      <td>1.0</td>\n",
       "      <td>1.0</td>\n",
       "      <td>1.0</td>\n",
       "      <td>Daily Paper, Radio</td>\n",
       "      <td>62.4</td>\n",
       "    </tr>\n",
       "  </tbody>\n",
       "</table></div>"
      ],
      "text/plain": [
       "       index food_category food_department food_family  store_sales  \\\n",
       "19606  19606   Snack Foods     Snack Foods        Food         5.24   \n",
       "\n",
       "       store_cost  unit_sales promotion_name sales_country marital_status  \\\n",
       "19606       1.834         4.0   Sales Galore        Mexico              M   \n",
       "\n",
       "       ... grocery_sqft  frozen_sqft meat_sqft coffee_bar video_store  \\\n",
       "19606  ...      20141.0       6393.0    4262.0        1.0         1.0   \n",
       "\n",
       "      salad_bar  prepared_food florist          media_type  cost  \n",
       "19606       1.0            1.0     1.0  Daily Paper, Radio  62.4  \n",
       "\n",
       "[1 rows x 41 columns]"
      ]
     },
     "execution_count": 34,
     "metadata": {},
     "output_type": "execute_result"
    }
   ],
   "source": [
    "# Load data\n",
    "data = pd.read_csv('clean_data.csv')\n",
    "data.sample()"
   ]
  },
  {
   "cell_type": "code",
   "execution_count": 35,
   "metadata": {},
   "outputs": [],
   "source": [
    "num = data.select_dtypes(include=np.number).columns.to_list()   # Numeric values\n",
    "cat = data.select_dtypes(exclude=np.number).columns.to_list()   #Categorical values\n",
    "\n",
    "# Remove index and cost column\n",
    "num.remove('index')\n",
    "num.remove('avg_cars_at_home1')\n",
    "num.remove('store_sqft')\n",
    "num.remove('grocery_sqft')\n",
    "num.remove('frozen_sqft')\n",
    "num.remove('meat_sqft')\n",
    "num.remove('cost')\n",
    "\n",
    "# Declare X and Y variables \n",
    "x = data[num + cat]\n",
    "y = data['cost']\n",
    "\n",
    "# Train set and Test set\n",
    "x_train, x_test, y_train, y_test = train_test_split(x, y, test_size=0.2, random_state=1)"
   ]
  },
  {
   "cell_type": "code",
   "execution_count": 36,
   "metadata": {},
   "outputs": [],
   "source": [
    "# Numeric pipeline\n",
    "num_pipeline = Pipeline([\n",
    "    ('imputer', SimpleImputer(strategy='most_frequent')),\n",
    "    ('scaler', StandardScaler())\n",
    "])\n",
    "\n",
    "# Categorical pipeline\n",
    "cat_pipeline = Pipeline([\n",
    "    ('imputer', SimpleImputer(strategy='most_frequent')),\n",
    "    ('encoder', OneHotEncoder(sparse=True, handle_unknown='ignore'))\n",
    "])\n",
    "\n",
    "# ColumnTransformer for numeric and categorical values\n",
    "preprocessing_pipeline = ColumnTransformer([\n",
    "    ('num_preprocessing', num_pipeline, num),\n",
    "    ('cat_preprocessing', cat_pipeline, cat)\n",
    "])"
   ]
  },
  {
   "cell_type": "code",
   "execution_count": 37,
   "metadata": {},
   "outputs": [],
   "source": [
    "# Import models\n",
    "from sklearn.tree import DecisionTreeRegressor\n",
    "from sklearn.linear_model import LinearRegression\n",
    "from sklearn.linear_model import Lasso\n",
    "\n",
    "# model = Lasso(alpha = 0.1)\n",
    "# model = LinearRegression(fit_intercept=True)\n",
    "\n",
    "model = DecisionTreeRegressor() # Best score\n",
    "\n",
    "# Final pipeline\n",
    "complete_pipeline = Pipeline([\n",
    "    ('preprocessor', preprocessing_pipeline),\n",
    "    ('estimator', model),\n",
    "])"
   ]
  },
  {
   "cell_type": "code",
   "execution_count": 38,
   "metadata": {},
   "outputs": [
    {
     "name": "stdout",
     "output_type": "stream",
     "text": [
      "Train score:  1.0\n",
      "Test score:  0.9979522740883948\n"
     ]
    }
   ],
   "source": [
    "# Fit and test model pipeline\n",
    "complete_pipeline.fit(x_train, y_train)\n",
    "y_pred = complete_pipeline.predict(x_test)\n",
    "\n",
    "# Print all scores\n",
    "print('Train score: ',complete_pipeline.score(x_train, y_train))\n",
    "print('Test score: ',complete_pipeline.score(x_test, y_test))"
   ]
  },
  {
   "cell_type": "code",
   "execution_count": null,
   "metadata": {},
   "outputs": [],
   "source": [
    "# Export model.pkl\n",
    "import pickle\n",
    "\n",
    "pickle.dump(complete_pipeline, open('model.pkl', 'wb'))"
   ]
  }
 ],
 "metadata": {
  "kernelspec": {
   "display_name": "Python 3.9.13 64-bit",
   "language": "python",
   "name": "python3"
  },
  "language_info": {
   "codemirror_mode": {
    "name": "ipython",
    "version": 3
   },
   "file_extension": ".py",
   "mimetype": "text/x-python",
   "name": "python",
   "nbconvert_exporter": "python",
   "pygments_lexer": "ipython3",
   "version": "3.9.13"
  },
  "orig_nbformat": 4,
  "vscode": {
   "interpreter": {
    "hash": "cf92aa13fedf815d5c8dd192b8d835913fde3e8bc926b2a0ad6cc74ef2ba3ca2"
   }
  }
 },
 "nbformat": 4,
 "nbformat_minor": 2
}
